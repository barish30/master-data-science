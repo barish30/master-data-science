{
 "cells": [
  {
   "cell_type": "markdown",
   "metadata": {},
   "source": [
    "# Tranlator - with Python"
   ]
  },
  {
   "cell_type": "code",
   "execution_count": 2,
   "metadata": {},
   "outputs": [],
   "source": [
    "import tkinter as tk\n",
    "from googletrans import Translator"
   ]
  },
  {
   "cell_type": "code",
   "execution_count": 11,
   "metadata": {},
   "outputs": [],
   "source": [
    "win = tk.Tk()\n",
    "win.title('Translator')\n",
    "win.geometry('200x70')\n",
    "\n",
    "#Function\n",
    "\n",
    "def translation():\n",
    "    word = entry.get()\n",
    "    translator = Translator(service_urls=['translate.google.com'])\n",
    "    translation1 = translator.translate(word,dest='es')\n",
    "    label1 = tk.Label(win,text=f\"Translated In Spanish : {translation1.text}\",bg='yellow')\n",
    "    label1.grid(row=2,column=0)\n",
    "\n",
    "label = tk.Label(win,text='Enter word :')\n",
    "label.grid(row=0,column=0,sticky='W')\n",
    "\n",
    "entry = tk.Entry(win)\n",
    "entry.grid(row=1,column=0)\n",
    "\n",
    "button = tk.Button(win,text='Translate',command=translation)\n",
    "button.grid(row=1,column=2)\n",
    "\n",
    "win.mainloop()"
   ]
  }
 ],
 "metadata": {
  "kernelspec": {
   "display_name": "Python 3",
   "language": "python",
   "name": "python3"
  },
  "language_info": {
   "codemirror_mode": {
    "name": "ipython",
    "version": 3
   },
   "file_extension": ".py",
   "mimetype": "text/x-python",
   "name": "python",
   "nbconvert_exporter": "python",
   "pygments_lexer": "ipython3",
   "version": "3.7.3"
  }
 },
 "nbformat": 4,
 "nbformat_minor": 2
}
